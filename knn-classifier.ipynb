{
 "cells": [
  {
   "cell_type": "code",
   "execution_count": 1,
   "id": "d5f3cc54",
   "metadata": {
    "_cell_guid": "b1076dfc-b9ad-4769-8c92-a6c4dae69d19",
    "_uuid": "8f2839f25d086af736a60e9eeb907d3b93b6e0e5",
    "execution": {
     "iopub.execute_input": "2022-09-20T10:29:53.090213Z",
     "iopub.status.busy": "2022-09-20T10:29:53.089752Z",
     "iopub.status.idle": "2022-09-20T10:29:53.112806Z",
     "shell.execute_reply": "2022-09-20T10:29:53.111450Z"
    },
    "papermill": {
     "duration": 0.03765,
     "end_time": "2022-09-20T10:29:53.116187",
     "exception": false,
     "start_time": "2022-09-20T10:29:53.078537",
     "status": "completed"
    },
    "tags": []
   },
   "outputs": [
    {
     "name": "stdout",
     "output_type": "stream",
     "text": [
      "/kaggle/input/heart-disease-dataset/heart.csv\n"
     ]
    }
   ],
   "source": [
    "# This Python 3 environment comes with many helpful analytics libraries installed\n",
    "# It is defined by the kaggle/python Docker image: https://github.com/kaggle/docker-python\n",
    "# For example, here's several helpful packages to load\n",
    "\n",
    "import numpy as np # linear algebra\n",
    "import pandas as pd # data processing, CSV file I/O (e.g. pd.read_csv)\n",
    "\n",
    "# Input data files are available in the read-only \"../input/\" directory\n",
    "# For example, running this (by clicking run or pressing Shift+Enter) will list all files under the input directory\n",
    "\n",
    "import os\n",
    "for dirname, _, filenames in os.walk('/kaggle/input'):\n",
    "    for filename in filenames:\n",
    "        print(os.path.join(dirname, filename))\n",
    "\n",
    "# You can write up to 20GB to the current directory (/kaggle/working/) that gets preserved as output when you create a version using \"Save & Run All\" \n",
    "# You can also write temporary files to /kaggle/temp/, but they won't be saved outside of the current session"
   ]
  },
  {
   "cell_type": "code",
   "execution_count": 2,
   "id": "87ce1785",
   "metadata": {
    "execution": {
     "iopub.execute_input": "2022-09-20T10:29:53.133124Z",
     "iopub.status.busy": "2022-09-20T10:29:53.132670Z",
     "iopub.status.idle": "2022-09-20T10:29:53.152895Z",
     "shell.execute_reply": "2022-09-20T10:29:53.151722Z"
    },
    "papermill": {
     "duration": 0.032042,
     "end_time": "2022-09-20T10:29:53.155578",
     "exception": false,
     "start_time": "2022-09-20T10:29:53.123536",
     "status": "completed"
    },
    "tags": []
   },
   "outputs": [],
   "source": [
    "dataset=pd.read_csv('../input/heart-disease-dataset/heart.csv')"
   ]
  },
  {
   "cell_type": "code",
   "execution_count": 3,
   "id": "16946a94",
   "metadata": {
    "execution": {
     "iopub.execute_input": "2022-09-20T10:29:53.171710Z",
     "iopub.status.busy": "2022-09-20T10:29:53.171304Z",
     "iopub.status.idle": "2022-09-20T10:29:53.202142Z",
     "shell.execute_reply": "2022-09-20T10:29:53.199720Z"
    },
    "papermill": {
     "duration": 0.042291,
     "end_time": "2022-09-20T10:29:53.204765",
     "exception": false,
     "start_time": "2022-09-20T10:29:53.162474",
     "status": "completed"
    },
    "tags": []
   },
   "outputs": [
    {
     "name": "stdout",
     "output_type": "stream",
     "text": [
      "<class 'pandas.core.frame.DataFrame'>\n",
      "RangeIndex: 1025 entries, 0 to 1024\n",
      "Data columns (total 14 columns):\n",
      " #   Column    Non-Null Count  Dtype  \n",
      "---  ------    --------------  -----  \n",
      " 0   age       1025 non-null   int64  \n",
      " 1   sex       1025 non-null   int64  \n",
      " 2   cp        1025 non-null   int64  \n",
      " 3   trestbps  1025 non-null   int64  \n",
      " 4   chol      1025 non-null   int64  \n",
      " 5   fbs       1025 non-null   int64  \n",
      " 6   restecg   1025 non-null   int64  \n",
      " 7   thalach   1025 non-null   int64  \n",
      " 8   exang     1025 non-null   int64  \n",
      " 9   oldpeak   1025 non-null   float64\n",
      " 10  slope     1025 non-null   int64  \n",
      " 11  ca        1025 non-null   int64  \n",
      " 12  thal      1025 non-null   int64  \n",
      " 13  target    1025 non-null   int64  \n",
      "dtypes: float64(1), int64(13)\n",
      "memory usage: 112.2 KB\n"
     ]
    }
   ],
   "source": [
    "dataset.info()"
   ]
  },
  {
   "cell_type": "code",
   "execution_count": 4,
   "id": "19211797",
   "metadata": {
    "execution": {
     "iopub.execute_input": "2022-09-20T10:29:53.221712Z",
     "iopub.status.busy": "2022-09-20T10:29:53.221020Z",
     "iopub.status.idle": "2022-09-20T10:29:53.227026Z",
     "shell.execute_reply": "2022-09-20T10:29:53.225530Z"
    },
    "papermill": {
     "duration": 0.017286,
     "end_time": "2022-09-20T10:29:53.229741",
     "exception": false,
     "start_time": "2022-09-20T10:29:53.212455",
     "status": "completed"
    },
    "tags": []
   },
   "outputs": [],
   "source": [
    "#the dataset contains 13 features which are indexed from 0-12 , and a target label at index 13"
   ]
  },
  {
   "cell_type": "code",
   "execution_count": 5,
   "id": "8c3847d5",
   "metadata": {
    "execution": {
     "iopub.execute_input": "2022-09-20T10:29:53.247429Z",
     "iopub.status.busy": "2022-09-20T10:29:53.246555Z",
     "iopub.status.idle": "2022-09-20T10:29:53.324463Z",
     "shell.execute_reply": "2022-09-20T10:29:53.322739Z"
    },
    "papermill": {
     "duration": 0.089903,
     "end_time": "2022-09-20T10:29:53.327092",
     "exception": false,
     "start_time": "2022-09-20T10:29:53.237189",
     "status": "completed"
    },
    "tags": []
   },
   "outputs": [
    {
     "data": {
      "text/html": [
       "<div>\n",
       "<style scoped>\n",
       "    .dataframe tbody tr th:only-of-type {\n",
       "        vertical-align: middle;\n",
       "    }\n",
       "\n",
       "    .dataframe tbody tr th {\n",
       "        vertical-align: top;\n",
       "    }\n",
       "\n",
       "    .dataframe thead th {\n",
       "        text-align: right;\n",
       "    }\n",
       "</style>\n",
       "<table border=\"1\" class=\"dataframe\">\n",
       "  <thead>\n",
       "    <tr style=\"text-align: right;\">\n",
       "      <th></th>\n",
       "      <th>age</th>\n",
       "      <th>sex</th>\n",
       "      <th>cp</th>\n",
       "      <th>trestbps</th>\n",
       "      <th>chol</th>\n",
       "      <th>fbs</th>\n",
       "      <th>restecg</th>\n",
       "      <th>thalach</th>\n",
       "      <th>exang</th>\n",
       "      <th>oldpeak</th>\n",
       "      <th>slope</th>\n",
       "      <th>ca</th>\n",
       "      <th>thal</th>\n",
       "      <th>target</th>\n",
       "    </tr>\n",
       "  </thead>\n",
       "  <tbody>\n",
       "    <tr>\n",
       "      <th>count</th>\n",
       "      <td>1025.000000</td>\n",
       "      <td>1025.000000</td>\n",
       "      <td>1025.000000</td>\n",
       "      <td>1025.000000</td>\n",
       "      <td>1025.00000</td>\n",
       "      <td>1025.000000</td>\n",
       "      <td>1025.000000</td>\n",
       "      <td>1025.000000</td>\n",
       "      <td>1025.000000</td>\n",
       "      <td>1025.000000</td>\n",
       "      <td>1025.000000</td>\n",
       "      <td>1025.000000</td>\n",
       "      <td>1025.000000</td>\n",
       "      <td>1025.000000</td>\n",
       "    </tr>\n",
       "    <tr>\n",
       "      <th>mean</th>\n",
       "      <td>54.434146</td>\n",
       "      <td>0.695610</td>\n",
       "      <td>0.942439</td>\n",
       "      <td>131.611707</td>\n",
       "      <td>246.00000</td>\n",
       "      <td>0.149268</td>\n",
       "      <td>0.529756</td>\n",
       "      <td>149.114146</td>\n",
       "      <td>0.336585</td>\n",
       "      <td>1.071512</td>\n",
       "      <td>1.385366</td>\n",
       "      <td>0.754146</td>\n",
       "      <td>2.323902</td>\n",
       "      <td>0.513171</td>\n",
       "    </tr>\n",
       "    <tr>\n",
       "      <th>std</th>\n",
       "      <td>9.072290</td>\n",
       "      <td>0.460373</td>\n",
       "      <td>1.029641</td>\n",
       "      <td>17.516718</td>\n",
       "      <td>51.59251</td>\n",
       "      <td>0.356527</td>\n",
       "      <td>0.527878</td>\n",
       "      <td>23.005724</td>\n",
       "      <td>0.472772</td>\n",
       "      <td>1.175053</td>\n",
       "      <td>0.617755</td>\n",
       "      <td>1.030798</td>\n",
       "      <td>0.620660</td>\n",
       "      <td>0.500070</td>\n",
       "    </tr>\n",
       "    <tr>\n",
       "      <th>min</th>\n",
       "      <td>29.000000</td>\n",
       "      <td>0.000000</td>\n",
       "      <td>0.000000</td>\n",
       "      <td>94.000000</td>\n",
       "      <td>126.00000</td>\n",
       "      <td>0.000000</td>\n",
       "      <td>0.000000</td>\n",
       "      <td>71.000000</td>\n",
       "      <td>0.000000</td>\n",
       "      <td>0.000000</td>\n",
       "      <td>0.000000</td>\n",
       "      <td>0.000000</td>\n",
       "      <td>0.000000</td>\n",
       "      <td>0.000000</td>\n",
       "    </tr>\n",
       "    <tr>\n",
       "      <th>25%</th>\n",
       "      <td>48.000000</td>\n",
       "      <td>0.000000</td>\n",
       "      <td>0.000000</td>\n",
       "      <td>120.000000</td>\n",
       "      <td>211.00000</td>\n",
       "      <td>0.000000</td>\n",
       "      <td>0.000000</td>\n",
       "      <td>132.000000</td>\n",
       "      <td>0.000000</td>\n",
       "      <td>0.000000</td>\n",
       "      <td>1.000000</td>\n",
       "      <td>0.000000</td>\n",
       "      <td>2.000000</td>\n",
       "      <td>0.000000</td>\n",
       "    </tr>\n",
       "    <tr>\n",
       "      <th>50%</th>\n",
       "      <td>56.000000</td>\n",
       "      <td>1.000000</td>\n",
       "      <td>1.000000</td>\n",
       "      <td>130.000000</td>\n",
       "      <td>240.00000</td>\n",
       "      <td>0.000000</td>\n",
       "      <td>1.000000</td>\n",
       "      <td>152.000000</td>\n",
       "      <td>0.000000</td>\n",
       "      <td>0.800000</td>\n",
       "      <td>1.000000</td>\n",
       "      <td>0.000000</td>\n",
       "      <td>2.000000</td>\n",
       "      <td>1.000000</td>\n",
       "    </tr>\n",
       "    <tr>\n",
       "      <th>75%</th>\n",
       "      <td>61.000000</td>\n",
       "      <td>1.000000</td>\n",
       "      <td>2.000000</td>\n",
       "      <td>140.000000</td>\n",
       "      <td>275.00000</td>\n",
       "      <td>0.000000</td>\n",
       "      <td>1.000000</td>\n",
       "      <td>166.000000</td>\n",
       "      <td>1.000000</td>\n",
       "      <td>1.800000</td>\n",
       "      <td>2.000000</td>\n",
       "      <td>1.000000</td>\n",
       "      <td>3.000000</td>\n",
       "      <td>1.000000</td>\n",
       "    </tr>\n",
       "    <tr>\n",
       "      <th>max</th>\n",
       "      <td>77.000000</td>\n",
       "      <td>1.000000</td>\n",
       "      <td>3.000000</td>\n",
       "      <td>200.000000</td>\n",
       "      <td>564.00000</td>\n",
       "      <td>1.000000</td>\n",
       "      <td>2.000000</td>\n",
       "      <td>202.000000</td>\n",
       "      <td>1.000000</td>\n",
       "      <td>6.200000</td>\n",
       "      <td>2.000000</td>\n",
       "      <td>4.000000</td>\n",
       "      <td>3.000000</td>\n",
       "      <td>1.000000</td>\n",
       "    </tr>\n",
       "  </tbody>\n",
       "</table>\n",
       "</div>"
      ],
      "text/plain": [
       "               age          sex           cp     trestbps        chol  \\\n",
       "count  1025.000000  1025.000000  1025.000000  1025.000000  1025.00000   \n",
       "mean     54.434146     0.695610     0.942439   131.611707   246.00000   \n",
       "std       9.072290     0.460373     1.029641    17.516718    51.59251   \n",
       "min      29.000000     0.000000     0.000000    94.000000   126.00000   \n",
       "25%      48.000000     0.000000     0.000000   120.000000   211.00000   \n",
       "50%      56.000000     1.000000     1.000000   130.000000   240.00000   \n",
       "75%      61.000000     1.000000     2.000000   140.000000   275.00000   \n",
       "max      77.000000     1.000000     3.000000   200.000000   564.00000   \n",
       "\n",
       "               fbs      restecg      thalach        exang      oldpeak  \\\n",
       "count  1025.000000  1025.000000  1025.000000  1025.000000  1025.000000   \n",
       "mean      0.149268     0.529756   149.114146     0.336585     1.071512   \n",
       "std       0.356527     0.527878    23.005724     0.472772     1.175053   \n",
       "min       0.000000     0.000000    71.000000     0.000000     0.000000   \n",
       "25%       0.000000     0.000000   132.000000     0.000000     0.000000   \n",
       "50%       0.000000     1.000000   152.000000     0.000000     0.800000   \n",
       "75%       0.000000     1.000000   166.000000     1.000000     1.800000   \n",
       "max       1.000000     2.000000   202.000000     1.000000     6.200000   \n",
       "\n",
       "             slope           ca         thal       target  \n",
       "count  1025.000000  1025.000000  1025.000000  1025.000000  \n",
       "mean      1.385366     0.754146     2.323902     0.513171  \n",
       "std       0.617755     1.030798     0.620660     0.500070  \n",
       "min       0.000000     0.000000     0.000000     0.000000  \n",
       "25%       1.000000     0.000000     2.000000     0.000000  \n",
       "50%       1.000000     0.000000     2.000000     1.000000  \n",
       "75%       2.000000     1.000000     3.000000     1.000000  \n",
       "max       2.000000     4.000000     3.000000     1.000000  "
      ]
     },
     "execution_count": 5,
     "metadata": {},
     "output_type": "execute_result"
    }
   ],
   "source": [
    "dataset.describe()"
   ]
  },
  {
   "cell_type": "code",
   "execution_count": 6,
   "id": "2a252f0e",
   "metadata": {
    "execution": {
     "iopub.execute_input": "2022-09-20T10:29:53.344242Z",
     "iopub.status.busy": "2022-09-20T10:29:53.343804Z",
     "iopub.status.idle": "2022-09-20T10:29:53.353670Z",
     "shell.execute_reply": "2022-09-20T10:29:53.352429Z"
    },
    "papermill": {
     "duration": 0.021888,
     "end_time": "2022-09-20T10:29:53.356618",
     "exception": false,
     "start_time": "2022-09-20T10:29:53.334730",
     "status": "completed"
    },
    "tags": []
   },
   "outputs": [
    {
     "data": {
      "text/plain": [
       "'\\nobservations from the describtion of the dataset \\n1-dataset contains 1025 records for the 13 features which will be denoted as X\\n2-same values for the target column Y- 1025 label which confirms no null or missing values\\n3-mean of the ages =54.43 over 1025 patients \\nwhere std stands for standard deviation which is equivalent to \\n\\nsqrt((x-xp)^2)/n-1\\n\\nwhere x is the data point coming from the dataset \\nxp is the average/mean of the sample \\nn: size of the sample \\nFirst, take the square of the difference between each data point and the sample mean, finding the sum of those values.\\nNext, divide that sum by the sample size minus one, which is the variance.\\nFinally, take the square root of the variance to get the SD.\\n\\n\\n\\nminimum age at the dataset is 29 year-old\\nmaximum age at the dataset is 77 year-old\\n50% of the patients aged almost 56 years old\\n\\n\\n\\n4-Gender or sex = average values = 0.69 which will be one / zero for male/female\\n\\n\\n\\n\\n5-cp refers to chest pain index\\n\\naverage choletroel index is 249 mg/dl\\n\\nreference : 200 to 239 mg/dL\\n\\n\\n6-fasting blood sugar which describes the blood sugar test without eating from 6-8 hours\\n\\n0.149\\n\\nreference for normal ranges : \\n0.100 to 0.125 g/dL\\n\\n\\n\\n7-resting electrocardiographic results \\n\\n\\n0 = normal; 1 = having ST-T; 2 = hypertrophy\\n\\nnormal : referes to normal echo results\\n\\n\\nST-T : ST- and T-wave changes may represent cardiac pathology \\nor be a normal variant. \\nInterpretation of the findings, therefore,\\ndepends on the clinical context and presence of similar findings on prior electrocardiograms.\\n\\n\\n\\nhypertrophy :  a disease in which the heart muscle becomes thickened (hypertrophied). \\nThe thickened heart muscle can make it harder for the heart to pump blood.\\n\\n\\n\\n8-thalach :maximum heart rate achieved\\n\\n9-exang: exercise induced angina\\n\\n\\n10-old peak : ST depression induced by exercise relative to rest\\n\\n11-slope : the slope of the peak exercise ST segment \\n(1 = upsloping; 2 = flat; 3 = downsloping)\\n\\n12-number of major vessels (0-3) colored by flourosopy\\n\\n13-thal - 3 = normal; 6 = fixed defect; 7 = reversable defect\\n\\n\\n'"
      ]
     },
     "execution_count": 6,
     "metadata": {},
     "output_type": "execute_result"
    }
   ],
   "source": [
    "'''\n",
    "observations from the describtion of the dataset \n",
    "1-dataset contains 1025 records for the 13 features which will be denoted as X\n",
    "2-same values for the target column Y- 1025 label which confirms no null or missing values\n",
    "3-mean of the ages =54.43 over 1025 patients \n",
    "where std stands for standard deviation which is equivalent to \n",
    "\n",
    "sqrt((x-xp)^2)/n-1\n",
    "\n",
    "where x is the data point coming from the dataset \n",
    "xp is the average/mean of the sample \n",
    "n: size of the sample \n",
    "First, take the square of the difference between each data point and the sample mean, finding the sum of those values.\n",
    "Next, divide that sum by the sample size minus one, which is the variance.\n",
    "Finally, take the square root of the variance to get the SD.\n",
    "\n",
    "\n",
    "\n",
    "minimum age at the dataset is 29 year-old\n",
    "maximum age at the dataset is 77 year-old\n",
    "50% of the patients aged almost 56 years old\n",
    "\n",
    "\n",
    "\n",
    "4-Gender or sex = average values = 0.69 which will be one / zero for male/female\n",
    "\n",
    "\n",
    "\n",
    "\n",
    "5-cp refers to chest pain index\n",
    "\n",
    "average choletroel index is 249 mg/dl\n",
    "\n",
    "reference : 200 to 239 mg/dL\n",
    "\n",
    "\n",
    "6-fasting blood sugar which describes the blood sugar test without eating from 6-8 hours\n",
    "\n",
    "0.149\n",
    "\n",
    "reference for normal ranges : \n",
    "0.100 to 0.125 g/dL\n",
    "\n",
    "\n",
    "\n",
    "7-resting electrocardiographic results \n",
    "\n",
    "\n",
    "0 = normal; 1 = having ST-T; 2 = hypertrophy\n",
    "\n",
    "normal : referes to normal echo results\n",
    "\n",
    "\n",
    "ST-T : ST- and T-wave changes may represent cardiac pathology \n",
    "or be a normal variant. \n",
    "Interpretation of the findings, therefore,\n",
    "depends on the clinical context and presence of similar findings on prior electrocardiograms.\n",
    "\n",
    "\n",
    "\n",
    "hypertrophy :  a disease in which the heart muscle becomes thickened (hypertrophied). \n",
    "The thickened heart muscle can make it harder for the heart to pump blood.\n",
    "\n",
    "\n",
    "\n",
    "8-thalach :maximum heart rate achieved\n",
    "\n",
    "9-exang: exercise induced angina\n",
    "\n",
    "\n",
    "10-old peak : ST depression induced by exercise relative to rest\n",
    "\n",
    "11-slope : the slope of the peak exercise ST segment \n",
    "(1 = upsloping; 2 = flat; 3 = downsloping)\n",
    "\n",
    "12-number of major vessels (0-3) colored by flourosopy\n",
    "\n",
    "13-thal - 3 = normal; 6 = fixed defect; 7 = reversable defect\n",
    "\n",
    "\n",
    "'''\n",
    "\n",
    "\n",
    "\n"
   ]
  },
  {
   "cell_type": "code",
   "execution_count": 7,
   "id": "b3635281",
   "metadata": {
    "execution": {
     "iopub.execute_input": "2022-09-20T10:29:53.374161Z",
     "iopub.status.busy": "2022-09-20T10:29:53.373423Z",
     "iopub.status.idle": "2022-09-20T10:29:53.381066Z",
     "shell.execute_reply": "2022-09-20T10:29:53.379818Z"
    },
    "papermill": {
     "duration": 0.019429,
     "end_time": "2022-09-20T10:29:53.383687",
     "exception": false,
     "start_time": "2022-09-20T10:29:53.364258",
     "status": "completed"
    },
    "tags": []
   },
   "outputs": [
    {
     "data": {
      "text/plain": [
       "'\\n\\n\\nusing visualizations to better understand our data \\nand then look at any processing we might want to do.\\n\\n'"
      ]
     },
     "execution_count": 7,
     "metadata": {},
     "output_type": "execute_result"
    }
   ],
   "source": [
    "\n",
    "'''\n",
    "\n",
    "\n",
    "using visualizations to better understand our data \n",
    "and then look at any processing we might want to do.\n",
    "\n",
    "'''"
   ]
  },
  {
   "cell_type": "code",
   "execution_count": 8,
   "id": "2aeccff7",
   "metadata": {
    "execution": {
     "iopub.execute_input": "2022-09-20T10:29:53.402329Z",
     "iopub.status.busy": "2022-09-20T10:29:53.401794Z",
     "iopub.status.idle": "2022-09-20T10:29:54.176544Z",
     "shell.execute_reply": "2022-09-20T10:29:54.174392Z"
    },
    "papermill": {
     "duration": 0.788674,
     "end_time": "2022-09-20T10:29:54.180100",
     "exception": false,
     "start_time": "2022-09-20T10:29:53.391426",
     "status": "completed"
    },
    "tags": []
   },
   "outputs": [
    {
     "data": {
      "text/plain": [
       "<matplotlib.colorbar.Colorbar at 0x7faf03cc4b10>"
      ]
     },
     "execution_count": 8,
     "metadata": {},
     "output_type": "execute_result"
    },
    {
     "data": {
      "image/png": "[encoded data removed]",
      "text/plain": [
       "<Figure size 1008x1008 with 2 Axes>"
      ]
     },
     "metadata": {
      "needs_background": "light"
     },
     "output_type": "display_data"
    }
   ],
   "source": [
    "import numpy as np\n",
    "import pandas as pd\n",
    "import matplotlib.pyplot as plt\n",
    "from matplotlib import rcParams\n",
    "from matplotlib.cm import rainbow\n",
    "%matplotlib inline\n",
    "import warnings\n",
    "warnings.filterwarnings('ignore')\n",
    "\n",
    "rcParams['figure.figsize'] = 20, 14\n",
    "plt.matshow(dataset.corr())\n",
    "plt.yticks(np.arange(dataset.shape[1]), dataset.columns)\n",
    "plt.xticks(np.arange(dataset.shape[1]), dataset.columns)\n",
    "plt.colorbar()"
   ]
  },
  {
   "cell_type": "code",
   "execution_count": 9,
   "id": "fbeb7817",
   "metadata": {
    "execution": {
     "iopub.execute_input": "2022-09-20T10:29:54.200548Z",
     "iopub.status.busy": "2022-09-20T10:29:54.200086Z",
     "iopub.status.idle": "2022-09-20T10:29:56.846302Z",
     "shell.execute_reply": "2022-09-20T10:29:56.844750Z"
    },
    "papermill": {
     "duration": 2.660197,
     "end_time": "2022-09-20T10:29:56.849189",
     "exception": false,
     "start_time": "2022-09-20T10:29:54.188992",
     "status": "completed"
    },
    "tags": []
   },
   "outputs": [
    {
     "data": {
      "text/plain": [
       "array([[<AxesSubplot:title={'center':'age'}>,\n",
       "        <AxesSubplot:title={'center':'sex'}>,\n",
       "        <AxesSubplot:title={'center':'cp'}>,\n",
       "        <AxesSubplot:title={'center':'trestbps'}>],\n",
       "       [<AxesSubplot:title={'center':'chol'}>,\n",
       "        <AxesSubplot:title={'center':'fbs'}>,\n",
       "        <AxesSubplot:title={'center':'restecg'}>,\n",
       "        <AxesSubplot:title={'center':'thalach'}>],\n",
       "       [<AxesSubplot:title={'center':'exang'}>,\n",
       "        <AxesSubplot:title={'center':'oldpeak'}>,\n",
       "        <AxesSubplot:title={'center':'slope'}>,\n",
       "        <AxesSubplot:title={'center':'ca'}>],\n",
       "       [<AxesSubplot:title={'center':'thal'}>,\n",
       "        <AxesSubplot:title={'center':'target'}>, <AxesSubplot:>,\n",
       "        <AxesSubplot:>]], dtype=object)"
      ]
     },
     "execution_count": 9,
     "metadata": {},
     "output_type": "execute_result"
    },
    {
     "data": {
      "image/png": "[encoded data removed]",
      "text/plain": [
       "<Figure size 1440x1008 with 16 Axes>"
      ]
     },
     "metadata": {
      "needs_background": "light"
     },
     "output_type": "display_data"
    }
   ],
   "source": [
    "dataset.hist()"
   ]
  },
  {
   "cell_type": "code",
   "execution_count": 10,
   "id": "4ac8db69",
   "metadata": {
    "execution": {
     "iopub.execute_input": "2022-09-20T10:29:56.872898Z",
     "iopub.status.busy": "2022-09-20T10:29:56.872257Z",
     "iopub.status.idle": "2022-09-20T10:29:57.098572Z",
     "shell.execute_reply": "2022-09-20T10:29:57.096756Z"
    },
    "papermill": {
     "duration": 0.242112,
     "end_time": "2022-09-20T10:29:57.101659",
     "exception": false,
     "start_time": "2022-09-20T10:29:56.859547",
     "status": "completed"
    },
    "tags": []
   },
   "outputs": [
    {
     "data": {
      "text/plain": [
       "Text(0.5, 1.0, 'Count of each Target Class')"
      ]
     },
     "execution_count": 10,
     "metadata": {},
     "output_type": "execute_result"
    },
    {
     "data": {
      "image/png": "[encoded data removed]",
      "text/plain": [
       "<Figure size 576x432 with 1 Axes>"
      ]
     },
     "metadata": {
      "needs_background": "light"
     },
     "output_type": "display_data"
    }
   ],
   "source": [
    "'''\n",
    "checking class imblancing\n",
    "\n",
    "'''\n",
    "\n",
    "\n",
    "rcParams['figure.figsize'] = 8,6\n",
    "plt.bar(dataset['target'].unique(), dataset['target'].value_counts(), color = ['red', 'green'])\n",
    "plt.xticks([0, 1])\n",
    "plt.xlabel('Target Classes')\n",
    "plt.ylabel('Count')\n",
    "plt.title('Count of each Target Class')"
   ]
  },
  {
   "cell_type": "code",
   "execution_count": 11,
   "id": "a359f11d",
   "metadata": {
    "execution": {
     "iopub.execute_input": "2022-09-20T10:29:57.123858Z",
     "iopub.status.busy": "2022-09-20T10:29:57.123369Z",
     "iopub.status.idle": "2022-09-20T10:29:57.132136Z",
     "shell.execute_reply": "2022-09-20T10:29:57.129867Z"
    },
    "papermill": {
     "duration": 0.023902,
     "end_time": "2022-09-20T10:29:57.135120",
     "exception": false,
     "start_time": "2022-09-20T10:29:57.111218",
     "status": "completed"
    },
    "tags": []
   },
   "outputs": [
    {
     "data": {
      "text/plain": [
       "\"\\nData Processing\\nAfter exploring the dataset,\\nI observed that I need to convert some categorical variables into dummy variables \\nand scale all the values before training the Machine Learning models.First, \\nI'll use the get_dummies method to create dummy columns for categorical variables.\\n\\n\""
      ]
     },
     "execution_count": 11,
     "metadata": {},
     "output_type": "execute_result"
    }
   ],
   "source": [
    "'''\n",
    "Data Processing\n",
    "After exploring the dataset,\n",
    "I observed that I need to convert some categorical variables into dummy variables \n",
    "and scale all the values before training the Machine Learning models.First, \n",
    "I'll use the get_dummies method to create dummy columns for categorical variables.\n",
    "\n",
    "'''\n",
    "\n",
    "#dataset = pd.get_dummies(dataset, columns = ['sex', 'cp', 'fbs', 'restecg', 'exang', 'slope', 'ca', 'thal'])"
   ]
  },
  {
   "cell_type": "code",
   "execution_count": 12,
   "id": "8a0d23f4",
   "metadata": {
    "execution": {
     "iopub.execute_input": "2022-09-20T10:29:57.159016Z",
     "iopub.status.busy": "2022-09-20T10:29:57.158513Z",
     "iopub.status.idle": "2022-09-20T10:29:58.583011Z",
     "shell.execute_reply": "2022-09-20T10:29:58.581678Z"
    },
    "papermill": {
     "duration": 1.439951,
     "end_time": "2022-09-20T10:29:58.586013",
     "exception": false,
     "start_time": "2022-09-20T10:29:57.146062",
     "status": "completed"
    },
    "tags": []
   },
   "outputs": [],
   "source": [
    "from sklearn.neighbors import KNeighborsClassifier\n",
    "from sklearn.svm import SVC\n",
    "from sklearn.tree import DecisionTreeClassifier\n",
    "from sklearn.ensemble import RandomForestClassifier\n",
    "from sklearn.model_selection import train_test_split\n",
    "from sklearn.preprocessing import StandardScaler"
   ]
  },
  {
   "cell_type": "code",
   "execution_count": 13,
   "id": "41f3a262",
   "metadata": {
    "execution": {
     "iopub.execute_input": "2022-09-20T10:29:58.608475Z",
     "iopub.status.busy": "2022-09-20T10:29:58.608015Z",
     "iopub.status.idle": "2022-09-20T10:29:58.614938Z",
     "shell.execute_reply": "2022-09-20T10:29:58.613893Z"
    },
    "papermill": {
     "duration": 0.021709,
     "end_time": "2022-09-20T10:29:58.618261",
     "exception": false,
     "start_time": "2022-09-20T10:29:58.596552",
     "status": "completed"
    },
    "tags": []
   },
   "outputs": [
    {
     "data": {
      "text/plain": [
       "\"standardScaler = StandardScaler()\\ncolumns_to_scale = ['age', 'trestbps', 'chol', 'thalach', 'oldpeak']\\ndataset[columns_to_scale] = standardScaler.fit_transform(dataset[columns_to_scale])\""
      ]
     },
     "execution_count": 13,
     "metadata": {},
     "output_type": "execute_result"
    }
   ],
   "source": [
    "'''standardScaler = StandardScaler()\n",
    "columns_to_scale = ['age', 'trestbps', 'chol', 'thalach', 'oldpeak']\n",
    "dataset[columns_to_scale] = standardScaler.fit_transform(dataset[columns_to_scale])'''"
   ]
  },
  {
   "cell_type": "code",
   "execution_count": 14,
   "id": "d6e87c75",
   "metadata": {
    "execution": {
     "iopub.execute_input": "2022-09-20T10:29:58.642411Z",
     "iopub.status.busy": "2022-09-20T10:29:58.640986Z",
     "iopub.status.idle": "2022-09-20T10:29:58.648221Z",
     "shell.execute_reply": "2022-09-20T10:29:58.647045Z"
    },
    "papermill": {
     "duration": 0.02182,
     "end_time": "2022-09-20T10:29:58.650675",
     "exception": false,
     "start_time": "2022-09-20T10:29:58.628855",
     "status": "completed"
    },
    "tags": []
   },
   "outputs": [
    {
     "data": {
      "text/plain": [
       "\"y = dataset['target']\\nX = dataset.drop(['target'], axis = 1)\\nX_train, X_test, y_train, y_test = train_test_split(X, y, test_size = 0.2, random_state = 0)\""
      ]
     },
     "execution_count": 14,
     "metadata": {},
     "output_type": "execute_result"
    }
   ],
   "source": [
    "'''y = dataset['target']\n",
    "X = dataset.drop(['target'], axis = 1)\n",
    "X_train, X_test, y_train, y_test = train_test_split(X, y, test_size = 0.2, random_state = 0)'''"
   ]
  },
  {
   "cell_type": "code",
   "execution_count": 15,
   "id": "88d69031",
   "metadata": {
    "execution": {
     "iopub.execute_input": "2022-09-20T10:29:58.674809Z",
     "iopub.status.busy": "2022-09-20T10:29:58.674047Z",
     "iopub.status.idle": "2022-09-20T10:29:58.682105Z",
     "shell.execute_reply": "2022-09-20T10:29:58.680832Z"
    },
    "papermill": {
     "duration": 0.022101,
     "end_time": "2022-09-20T10:29:58.684460",
     "exception": false,
     "start_time": "2022-09-20T10:29:58.662359",
     "status": "completed"
    },
    "tags": []
   },
   "outputs": [
    {
     "data": {
      "text/plain": [
       "'\\nknn_scores=[]\\nfor k in range (1,18):\\n    knn_classifier=KNeighborsClassifier(n_neighbors = k)\\n    knn_classifier.fit(X_train, y_train)\\n    knn_scores.append(knn_classifier.score(X_test, y_test))\\n'"
      ]
     },
     "execution_count": 15,
     "metadata": {},
     "output_type": "execute_result"
    }
   ],
   "source": [
    "#trying K-Nearst-Neighbor\n",
    "'''\n",
    "knn_scores=[]\n",
    "for k in range (1,18):\n",
    "    knn_classifier=KNeighborsClassifier(n_neighbors = k)\n",
    "    knn_classifier.fit(X_train, y_train)\n",
    "    knn_scores.append(knn_classifier.score(X_test, y_test))\n",
    "'''\n"
   ]
  },
  {
   "cell_type": "code",
   "execution_count": 16,
   "id": "2840408a",
   "metadata": {
    "execution": {
     "iopub.execute_input": "2022-09-20T10:29:58.708854Z",
     "iopub.status.busy": "2022-09-20T10:29:58.708179Z",
     "iopub.status.idle": "2022-09-20T10:29:58.715072Z",
     "shell.execute_reply": "2022-09-20T10:29:58.713295Z"
    },
    "papermill": {
     "duration": 0.022341,
     "end_time": "2022-09-20T10:29:58.718030",
     "exception": false,
     "start_time": "2022-09-20T10:29:58.695689",
     "status": "completed"
    },
    "tags": []
   },
   "outputs": [
    {
     "data": {
      "text/plain": [
       "\"plt.plot([k for k in range(1, 18)], knn_scores, color = 'red')\\nfor i in range(1,18):\\n    plt.text(i, knn_scores[i-1], (i, knn_scores[i-1]))\\nplt.xticks([i for i in range(1, 18)])\\nplt.xlabel('Number of Neighbors (K)')\\nplt.ylabel('Scores')\\nplt.title('K Neighbors Classifier scores for different K values')\""
      ]
     },
     "execution_count": 16,
     "metadata": {},
     "output_type": "execute_result"
    }
   ],
   "source": [
    "'''plt.plot([k for k in range(1, 18)], knn_scores, color = 'red')\n",
    "for i in range(1,18):\n",
    "    plt.text(i, knn_scores[i-1], (i, knn_scores[i-1]))\n",
    "plt.xticks([i for i in range(1, 18)])\n",
    "plt.xlabel('Number of Neighbors (K)')\n",
    "plt.ylabel('Scores')\n",
    "plt.title('K Neighbors Classifier scores for different K values')'''"
   ]
  },
  {
   "cell_type": "code",
   "execution_count": 17,
   "id": "bf810f23",
   "metadata": {
    "execution": {
     "iopub.execute_input": "2022-09-20T10:29:58.742041Z",
     "iopub.status.busy": "2022-09-20T10:29:58.741372Z",
     "iopub.status.idle": "2022-09-20T10:29:58.747509Z",
     "shell.execute_reply": "2022-09-20T10:29:58.746537Z"
    },
    "papermill": {
     "duration": 0.020563,
     "end_time": "2022-09-20T10:29:58.749938",
     "exception": false,
     "start_time": "2022-09-20T10:29:58.729375",
     "status": "completed"
    },
    "tags": []
   },
   "outputs": [
    {
     "data": {
      "text/plain": [
       "'print(\"The score for K Neighbors Classifier is {}% with {} nieghbors.\".format(knn_scores[2]*100, 3))'"
      ]
     },
     "execution_count": 17,
     "metadata": {},
     "output_type": "execute_result"
    }
   ],
   "source": [
    "'''print(\"The score for K Neighbors Classifier is {}% with {} nieghbors.\".format(knn_scores[2]*100, 3))'''"
   ]
  },
  {
   "cell_type": "code",
   "execution_count": 18,
   "id": "4ac92f31",
   "metadata": {
    "execution": {
     "iopub.execute_input": "2022-09-20T10:29:58.776680Z",
     "iopub.status.busy": "2022-09-20T10:29:58.776188Z",
     "iopub.status.idle": "2022-09-20T10:29:58.782946Z",
     "shell.execute_reply": "2022-09-20T10:29:58.781730Z"
    },
    "papermill": {
     "duration": 0.023642,
     "end_time": "2022-09-20T10:29:58.785598",
     "exception": false,
     "start_time": "2022-09-20T10:29:58.761956",
     "status": "completed"
    },
    "tags": []
   },
   "outputs": [],
   "source": [
    "#Seperating the data and labels\n",
    "X = dataset.drop(columns = 'target', axis = 1)\n",
    "Y = dataset['target']"
   ]
  },
  {
   "cell_type": "code",
   "execution_count": 19,
   "id": "25b46ef0",
   "metadata": {
    "execution": {
     "iopub.execute_input": "2022-09-20T10:29:58.810117Z",
     "iopub.status.busy": "2022-09-20T10:29:58.809719Z",
     "iopub.status.idle": "2022-09-20T10:29:58.823200Z",
     "shell.execute_reply": "2022-09-20T10:29:58.821612Z"
    },
    "papermill": {
     "duration": 0.029533,
     "end_time": "2022-09-20T10:29:58.826307",
     "exception": false,
     "start_time": "2022-09-20T10:29:58.796774",
     "status": "completed"
    },
    "tags": []
   },
   "outputs": [],
   "source": [
    "#Data standardisation\n",
    "from sklearn.preprocessing import StandardScaler\n",
    "scaler = StandardScaler()\n",
    "scaler.fit(X)\n",
    "X = scaler.transform(X)"
   ]
  },
  {
   "cell_type": "code",
   "execution_count": 20,
   "id": "81bce821",
   "metadata": {
    "execution": {
     "iopub.execute_input": "2022-09-20T10:29:58.850174Z",
     "iopub.status.busy": "2022-09-20T10:29:58.849744Z",
     "iopub.status.idle": "2022-09-20T10:29:58.861367Z",
     "shell.execute_reply": "2022-09-20T10:29:58.859633Z"
    },
    "papermill": {
     "duration": 0.026808,
     "end_time": "2022-09-20T10:29:58.864314",
     "exception": false,
     "start_time": "2022-09-20T10:29:58.837506",
     "status": "completed"
    },
    "tags": []
   },
   "outputs": [],
   "source": [
    "#Train,Test,Split\n",
    "from sklearn.model_selection import train_test_split\n",
    "X_train, X_test, Y_train, Y_test = train_test_split(X, Y, test_size = 0.2, stratify = Y,random_state = 2)"
   ]
  },
  {
   "cell_type": "code",
   "execution_count": 21,
   "id": "73db9a20",
   "metadata": {
    "execution": {
     "iopub.execute_input": "2022-09-20T10:29:58.888594Z",
     "iopub.status.busy": "2022-09-20T10:29:58.887123Z",
     "iopub.status.idle": "2022-09-20T10:29:58.894247Z",
     "shell.execute_reply": "2022-09-20T10:29:58.893245Z"
    },
    "papermill": {
     "duration": 0.022613,
     "end_time": "2022-09-20T10:29:58.897444",
     "exception": false,
     "start_time": "2022-09-20T10:29:58.874831",
     "status": "completed"
    },
    "tags": []
   },
   "outputs": [],
   "source": [
    "#Model Development\n",
    "from sklearn.neighbors import KNeighborsClassifier\n",
    "model = KNeighborsClassifier(n_neighbors = 3)"
   ]
  },
  {
   "cell_type": "code",
   "execution_count": 22,
   "id": "0f3da5a5",
   "metadata": {
    "execution": {
     "iopub.execute_input": "2022-09-20T10:29:58.922765Z",
     "iopub.status.busy": "2022-09-20T10:29:58.921872Z",
     "iopub.status.idle": "2022-09-20T10:29:58.935427Z",
     "shell.execute_reply": "2022-09-20T10:29:58.933810Z"
    },
    "papermill": {
     "duration": 0.030615,
     "end_time": "2022-09-20T10:29:58.939023",
     "exception": false,
     "start_time": "2022-09-20T10:29:58.908408",
     "status": "completed"
    },
    "tags": []
   },
   "outputs": [
    {
     "data": {
      "text/plain": [
       "KNeighborsClassifier(n_neighbors=3)"
      ]
     },
     "execution_count": 22,
     "metadata": {},
     "output_type": "execute_result"
    }
   ],
   "source": [
    "model.fit(X_train, Y_train)"
   ]
  },
  {
   "cell_type": "code",
   "execution_count": 23,
   "id": "194b97fa",
   "metadata": {
    "execution": {
     "iopub.execute_input": "2022-09-20T10:29:58.963953Z",
     "iopub.status.busy": "2022-09-20T10:29:58.963063Z",
     "iopub.status.idle": "2022-09-20T10:29:59.003641Z",
     "shell.execute_reply": "2022-09-20T10:29:59.001812Z"
    },
    "papermill": {
     "duration": 0.057767,
     "end_time": "2022-09-20T10:29:59.007316",
     "exception": false,
     "start_time": "2022-09-20T10:29:58.949549",
     "status": "completed"
    },
    "tags": []
   },
   "outputs": [
    {
     "data": {
      "text/plain": [
       "0.9963414634146341"
      ]
     },
     "execution_count": 23,
     "metadata": {},
     "output_type": "execute_result"
    }
   ],
   "source": [
    "#Finding the accuracy score on training dataset\n",
    "from sklearn.metrics import accuracy_score\n",
    "X_train_prediction = model.predict(X_train)\n",
    "train_data_accuracy = accuracy_score(X_train_prediction, Y_train)\n",
    "train_data_accuracy"
   ]
  },
  {
   "cell_type": "code",
   "execution_count": 24,
   "id": "67eee5c0",
   "metadata": {
    "execution": {
     "iopub.execute_input": "2022-09-20T10:29:59.032602Z",
     "iopub.status.busy": "2022-09-20T10:29:59.031742Z",
     "iopub.status.idle": "2022-09-20T10:29:59.050607Z",
     "shell.execute_reply": "2022-09-20T10:29:59.049145Z"
    },
    "papermill": {
     "duration": 0.035412,
     "end_time": "2022-09-20T10:29:59.054015",
     "exception": false,
     "start_time": "2022-09-20T10:29:59.018603",
     "status": "completed"
    },
    "tags": []
   },
   "outputs": [
    {
     "data": {
      "text/plain": [
       "0.9512195121951219"
      ]
     },
     "execution_count": 24,
     "metadata": {},
     "output_type": "execute_result"
    }
   ],
   "source": [
    "#Finding the accuracy score on test dataset\n",
    "from sklearn.metrics import accuracy_score\n",
    "X_test_prediction = model.predict(X_test)\n",
    "test_data_accuracy = accuracy_score(X_test_prediction, Y_test)\n",
    "test_data_accuracy"
   ]
  },
  {
   "cell_type": "code",
   "execution_count": 25,
   "id": "694da278",
   "metadata": {
    "execution": {
     "iopub.execute_input": "2022-09-20T10:29:59.080930Z",
     "iopub.status.busy": "2022-09-20T10:29:59.080121Z",
     "iopub.status.idle": "2022-09-20T10:29:59.091580Z",
     "shell.execute_reply": "2022-09-20T10:29:59.089588Z"
    },
    "papermill": {
     "duration": 0.028414,
     "end_time": "2022-09-20T10:29:59.094649",
     "exception": false,
     "start_time": "2022-09-20T10:29:59.066235",
     "status": "completed"
    },
    "tags": []
   },
   "outputs": [
    {
     "name": "stdout",
     "output_type": "stream",
     "text": [
      "No Heart Disease\n"
     ]
    }
   ],
   "source": [
    "#Predicting system\n",
    "data = (62,0,0,138,294,1,1,106,0,1.9,1,3,2)\n",
    "data_array = np.asarray(data)\n",
    "data_reshape = data_array.reshape(1, -1)\n",
    "data_standard = scaler.transform(data_reshape)\n",
    "prediction = model.predict(data_standard)\n",
    "if(prediction[0] == 1):\n",
    "    print('Heart Disease')\n",
    "else:\n",
    "    print('No Heart Disease')"
   ]
  },
  {
   "cell_type": "code",
   "execution_count": null,
   "id": "494fc3e9",
   "metadata": {
    "papermill": {
     "duration": 0.011304,
     "end_time": "2022-09-20T10:29:59.118602",
     "exception": false,
     "start_time": "2022-09-20T10:29:59.107298",
     "status": "completed"
    },
    "tags": []
   },
   "outputs": [],
   "source": []
  }
 ],
 "metadata": {
  "kernelspec": {
   "display_name": "Python 3",
   "language": "python",
   "name": "python3"
  },
  "language_info": {
   "codemirror_mode": {
    "name": "ipython",
    "version": 3
   },
   "file_extension": ".py",
   "mimetype": "text/x-python",
   "name": "python",
   "nbconvert_exporter": "python",
   "pygments_lexer": "ipython3",
   "version": "3.7.12"
  },
  "papermill": {
   "default_parameters": {},
   "duration": 19.560332,
   "end_time": "2022-09-20T10:30:00.154954",
   "environment_variables": {},
   "exception": null,
   "input_path": "__notebook__.ipynb",
   "output_path": "__notebook__.ipynb",
   "parameters": {},
   "start_time": "2022-09-20T10:29:40.594622",
   "version": "2.3.4"
  }
 },
 "nbformat": 4,
 "nbformat_minor": 5
}
